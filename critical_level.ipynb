{
 "cells": [
  {
   "cell_type": "code",
   "execution_count": 2,
   "metadata": {},
   "outputs": [],
   "source": [
    "load('./vertex_algebras/util.sage')"
   ]
  },
  {
   "cell_type": "code",
   "execution_count": 3,
   "metadata": {},
   "outputs": [],
   "source": [
    "%load_ext autoreload\n",
    "%autoreload 2\n",
    "from vertex_algebras.vertex_algebra_with_OPE import *\n",
    "from vertex_algebras.freely_generated_noa import *\n",
    "from vertex_algebras.finitely_freely_generated_noa import *\n",
    "from vertex_algebras.vertex_algebra import *\n",
    "from vertex_algebras.vertex_algebra_element import *"
   ]
  },
  {
   "cell_type": "markdown",
   "metadata": {},
   "source": [
    "# Weyl realization of $\\mathfrak{sl}_2$\n",
    "\n",
    "Below we give the realization of $V(\\mathfrak{sl}_2)$ at critical level using the $\\beta\\gamma$-system.  The mapping \n",
    "$$e(z )\\mapsto \\beta(z)$$\n",
    "$$h(z )\\mapsto -2:\\beta(z)\\gamma(z):$$\n",
    "$$f(z) \\mapsto -:\\beta(z)\\gamma^2(z):-2\\partial \\gamma(z)$$\n",
    "is the Weyl free field realizaiton, which is implemented below. "
   ]
  },
  {
   "cell_type": "code",
   "execution_count": 20,
   "metadata": {},
   "outputs": [
    {
     "name": "stdout",
     "output_type": "stream",
     "text": [
      "Defining β, γ\n"
     ]
    },
    {
     "data": {
      "text/markdown": [
       "$ -:β:γγ:: - 2 \\partial^{{}} γ $"
      ],
      "text/plain": [
       "<IPython.core.display.Markdown object>"
      ]
     },
     "execution_count": 20,
     "metadata": {},
     "output_type": "execute_result"
    }
   ],
   "source": [
    "βγ_dict = {('β','γ'):{0:{('C',0):1}}, ('β','β'): {}, ('γ','γ'): {}}\n",
    "V = VertexAlgebra(QQ, βγ_dict, names=('β, γ'), central_elements=('C',))\n",
    "V.inject_variables()\n",
    "e = β\n",
    "h = - 2*β.no_product(γ)\n",
    "f = -β.no_product(γ.no_product(γ)) - 2* γ.T()\n",
    "showl(f)\n",
    "# showl(β.OPE(γ))"
   ]
  },
  {
   "cell_type": "code",
   "execution_count": 21,
   "metadata": {},
   "outputs": [
    {
     "data": {
      "text/markdown": [
       "$ \\frac{{-2}}{{(z-w)^{{2}}}} + \\frac{{-2 :βγ: (w)}}{{z-w}} $"
      ],
      "text/plain": [
       "<IPython.core.display.Markdown object>"
      ]
     },
     "execution_count": 21,
     "metadata": {},
     "output_type": "execute_result"
    }
   ],
   "source": [
    "showl(e.OPE(f, cc = (1,)))"
   ]
  },
  {
   "cell_type": "code",
   "execution_count": 22,
   "metadata": {},
   "outputs": [
    {
     "data": {
      "text/markdown": [
       "$ \\frac{{-2 β (w)}}{{z-w}} $"
      ],
      "text/plain": [
       "<IPython.core.display.Markdown object>"
      ]
     },
     "execution_count": 22,
     "metadata": {},
     "output_type": "execute_result"
    }
   ],
   "source": [
    "showl(e.OPE(h, cc = (1,)))"
   ]
  },
  {
   "cell_type": "code",
   "execution_count": 23,
   "metadata": {},
   "outputs": [
    {
     "data": {
      "text/markdown": [
       "$ \\frac{{-4 ::βγ:γ:(w) + 2 :β:γγ::(w)}}{{z-w}} $"
      ],
      "text/plain": [
       "<IPython.core.display.Markdown object>"
      ]
     },
     "execution_count": 23,
     "metadata": {},
     "output_type": "execute_result"
    }
   ],
   "source": [
    "showl(f.OPE(h, cc = (1,)))\n"
   ]
  },
  {
   "cell_type": "markdown",
   "metadata": {},
   "source": [
    "The above term equals $2 f(z)/(z-w)$ by the quasiassociativity of the normal ordered product. I hope to implement automatic rewriting using quasiassociativity in the future. "
   ]
  },
  {
   "cell_type": "code",
   "execution_count": null,
   "metadata": {},
   "outputs": [],
   "source": []
  }
 ],
 "metadata": {
  "kernelspec": {
   "display_name": "SageMath 9.5",
   "language": "sage",
   "name": "sagemath"
  },
  "language_info": {
   "codemirror_mode": {
    "name": "ipython",
    "version": 3
   },
   "file_extension": ".py",
   "mimetype": "text/x-python",
   "name": "python",
   "nbconvert_exporter": "python",
   "pygments_lexer": "ipython3",
   "version": "3.10.12"
  }
 },
 "nbformat": 4,
 "nbformat_minor": 2
}
